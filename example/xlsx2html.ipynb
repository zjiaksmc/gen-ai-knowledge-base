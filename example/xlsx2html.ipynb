{
 "cells": [
  {
   "cell_type": "code",
   "execution_count": null,
   "metadata": {},
   "outputs": [],
   "source": [
    "%load_ext line_profiler"
   ]
  },
  {
   "cell_type": "code",
   "execution_count": null,
   "metadata": {},
   "outputs": [],
   "source": [
    "from ai_knowledge_base.utils.transport import xlsx2html\n",
    "from ai_knowledge_base.utils.document import BytesIOWrapper\n",
    "from ai_knowledge_base.utils.document import extract_xlsx_content, extract_other_content, parser_factory\n",
    "file_path = '/Users/zjia/Resultant/OneDrive - Resultant/OpportunityList/State of Utah/Division of Technology/Enterprise Master Person Index EMPI/Draft/Utah - Enterprise Master Person Index Resource Plan - 2023_v01.xlsx'\n",
    "# content = extract_xlsx_content(file_path)\n",
    "f = open(file_path, \"rb\")\n",
    "\n",
    "\n",
    "# parser = parser_factory(\"html\".split(\"_pdf\")[0]) # to handle cracked pdf converted to html\n",
    "# doc = parser.parse(content, file_name=None)"
   ]
  },
  {
   "cell_type": "code",
   "execution_count": null,
   "metadata": {},
   "outputs": [],
   "source": [
    "%lprun -f xlsx2html xlsx2html(f)"
   ]
  },
  {
   "cell_type": "code",
   "execution_count": null,
   "metadata": {},
   "outputs": [],
   "source": []
  }
 ],
 "metadata": {
  "kernelspec": {
   "display_name": "ai-knowledge-base",
   "language": "python",
   "name": "python3"
  },
  "language_info": {
   "codemirror_mode": {
    "name": "ipython",
    "version": 3
   },
   "file_extension": ".py",
   "mimetype": "text/x-python",
   "name": "python",
   "nbconvert_exporter": "python",
   "pygments_lexer": "ipython3",
   "version": "3.8.18"
  }
 },
 "nbformat": 4,
 "nbformat_minor": 2
}
