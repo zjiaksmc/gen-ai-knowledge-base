{
 "cells": [
  {
   "cell_type": "code",
   "execution_count": 5,
   "metadata": {},
   "outputs": [
    {
     "name": "stdout",
     "output_type": "stream",
     "text": [
      "The autoreload extension is already loaded. To reload it, use:\n",
      "  %reload_ext autoreload\n"
     ]
    }
   ],
   "source": [
    "%load_ext autoreload\n",
    "%autoreload 2\n",
    "from configparser import ConfigParser\n",
    "import logging\n",
    "logging.basicConfig()\n",
    "logging.getLogger().setLevel(logging.ERROR)\n",
    "import warnings\n",
    "warnings.filterwarnings(\"ignore\")\n",
    "\n",
    "config = ConfigParser()\n",
    "with open(\"set-env\") as stream:\n",
    "    config.read_string(\"[DEFAULT]\\n\" + stream.read())  # This line does the trick.\n",
    "\n",
    "pg_host=config['DEFAULT'].get(\"DB_HOST\")\n",
    "pg_uname=config['DEFAULT'].get(\"DB_UNAME\")\n",
    "pg_secret=config['DEFAULT'].get(\"DB_SECRET\")\n",
    "pg_db=config['DEFAULT'].get(\"DB_EMBEDDING_DB\")\n",
    "conn_str_alchemy = f\"postgresql://{pg_uname}:{pg_secret}@{pg_host}/{pg_db}\"\n",
    "\n",
    "openai_api_endpoint=config['DEFAULT'].get(\"OPENAI_API_ENDPOINT\")\n",
    "openai_api_key=config['DEFAULT'].get(\"OPENAI_API_KEY\")\n",
    "# openai_chat_deployment=config['DEFAULT'].get(\"OPENAI_CHAT_DEPLOYMENT\")\n",
    "openai_embedding_deployment=config['DEFAULT'].get(\"OPENAI_EMBEDDING_DEPLOYMENT\")\n",
    "# openai_chat_endpoint=f\"https://{openai_api_endpoint}/openai/deployments/{openai_chat_deployment}/chat/completions?api-version=2023-12-01-preview\"\n",
    "openai_embedding_endpoint=f\"https://{openai_api_endpoint}/openai/deployments/{openai_embedding_deployment}/embeddings?api-version=2023-08-01-preview\"\n",
    "\n",
    "docai_api_endpoint=config['DEFAULT'].get(\"DOCAI_API_ENDPOINT\")\n",
    "docai_api_key=config['DEFAULT'].get(\"DOCAI_API_KEY\")\n",
    "docai_endpoint=f\"https://{docai_api_endpoint}\"\n",
    "\n",
    "aisearch_api_endpoint=config['DEFAULT'].get(\"AISEARCH_API_ENDPOINT\")\n",
    "aisearch_api_key=config['DEFAULT'].get(\"AISEARCH_API_KEY\")\n",
    "aisearch_endpoint=f\"https://{aisearch_api_endpoint}\"\n",
    "\n",
    "index_store_host=config['DEFAULT'].get(\"INDEX_STORE_HOST\")\n",
    "index_store_uname=config['DEFAULT'].get(\"INDEX_STORE_UNAME\")\n",
    "index_store_secret=config['DEFAULT'].get(\"INDEX_STORE_SECRET\")\n",
    "conn_str_index_store = f\"mongodb+srv://{index_store_uname}:{index_store_secret}@{index_store_host}/?tls=true&authMechanism=SCRAM-SHA-256&retrywrites=false&maxIdleTimeMS=120000\"\n",
    "\n",
    "cache_secret=config['DEFAULT'].get(\"CACHE_SECRET\")\n",
    "cache_host=config['DEFAULT'].get(\"CACHE_HOST\")\n",
    "cache_port=config['DEFAULT'].get(\"CACHE_PORT\")\n",
    "conn_str_redis = f\"redis://:{cache_secret}@{cache_host}:{cache_port}/0\""
   ]
  },
  {
   "cell_type": "code",
   "execution_count": 6,
   "metadata": {},
   "outputs": [],
   "source": [
    "from ai_knowledge_base.config import *\n",
    "\n",
    "config = IngestionConfig.from_dict({\n",
    "    # \"data_path\": \"https://akbadls2.blob.core.windows.net/resultant-sales-knowledge/OpportunityList/\",\n",
    "    \"data_path\": \"/Users/zjia/Resultant/OneDrive - Resultant/OpportunityList/\",\n",
    "    \"staging_path\": \"/Users/zjia/Workspace/gen-ai-knowledge-base/tmp/resultant-sales-knowledge/OpportunityList/\",\n",
    "    # \"url_prefix\": \"https://akbadls2.blob.core.windows.net/resultant-sales-knowledge/OpportunityList/\",\n",
    "    \"url_prefix\": \"https://ksmconsulting.sharepoint.com/:w:/r/sites/SalesSupport/OpportunityList/{}?web=1&e=VfnsGl\",\n",
    "    \"database\": {\n",
    "        \"db\": {\n",
    "            \"url\": conn_str_alchemy\n",
    "        },\n",
    "        \"cache\": {\n",
    "            \"url\": conn_str_redis,\n",
    "            \"expire_time_second\": 120\n",
    "        }\n",
    "    },\n",
    "    \"retrieval_method\": {\n",
    "        \"type\": \"PROPRIETARY_SEARCH\",\n",
    "        \"index_store\": {\n",
    "            \"index_name\": \"bd-navigator-embedding\",\n",
    "            \"index_service\": {\n",
    "                \"endpoint\": aisearch_endpoint,\n",
    "                \"secret\": aisearch_api_key,\n",
    "                \"type\": \"azure_ai_search\",\n",
    "                \"specs\": {\n",
    "                    \"api_version\": \"2023-11-01\"\n",
    "                }\n",
    "            },\n",
    "            \"semantic_config_name\": \"semantic_default\",\n",
    "            \"vector_config_name\": \"vector_default\",\n",
    "            \"embedding_service\": {\n",
    "                \"endpoint\": openai_embedding_endpoint,\n",
    "                \"secret\": openai_api_key,\n",
    "                \"type\": \"openai_embedding\",\n",
    "                \"specs\": {\n",
    "                    \"deployment\": openai_embedding_deployment,\n",
    "                    \"api_version\": \"2023-08-01-preview\"\n",
    "                }\n",
    "            },\n",
    "            \"doc_extract_type\": \"DOC_ANALYSIS\",\n",
    "            \"doc_extract_service\": {\n",
    "                \"endpoint\": docai_endpoint,\n",
    "                \"secret\": docai_api_key,\n",
    "                \"type\": \"azure_doc_intelligence\",\n",
    "                \"specs\": {\n",
    "                    \"model_type\": \"Layout\",\n",
    "                    \"api_version\": \"2023-10-31-preview\"\n",
    "                }\n",
    "            }\n",
    "        }\n",
    "    }\n",
    "})\n"
   ]
  },
  {
   "cell_type": "code",
   "execution_count": 7,
   "metadata": {},
   "outputs": [],
   "source": [
    "# from azure.identity import AzureCliCredential\n",
    "# from ai_knowledge_base.embedding.ai_search import create_index\n",
    "\n",
    "# njobs = 6\n",
    "# credential = AzureCliCredential()\n",
    "# create_index(\n",
    "#     config,\n",
    "#     credential,\n",
    "#     njobs=njobs\n",
    "# )\n",
    "# print(\"Data preparation completed\")"
   ]
  },
  {
   "cell_type": "code",
   "execution_count": 8,
   "metadata": {},
   "outputs": [
    {
     "name": "stdout",
     "output_type": "stream",
     "text": [
      "Updated existing search index bd-navigator-embedding\n"
     ]
    },
    {
     "name": "stderr",
     "output_type": "stream",
     "text": [
      "Uploading documents...: 100%|██████████| 1176/1176 [5:03:08<00:00, 15.47s/it]   \n"
     ]
    },
    {
     "name": "stdout",
     "output_type": "stream",
     "text": [
      "The index contains 740295 chunks.\n",
      "The average chunk size of the index is 27426.610938882473 bytes.\n",
      "Document ingestion completed\n"
     ]
    }
   ],
   "source": [
    "from azure.identity import AzureCliCredential\n",
    "from ai_knowledge_base.embedding.ai_search import upload_documents_to_index\n",
    "\n",
    "credential = AzureCliCredential()\n",
    "upload_documents_to_index(\n",
    "    config,\n",
    "    credential\n",
    ")\n",
    "print(\"Document ingestion completed\")"
   ]
  },
  {
   "cell_type": "code",
   "execution_count": null,
   "metadata": {},
   "outputs": [],
   "source": [
    "# from azure.storage.blob import ContainerClient\n",
    "# container_url = f'https://akbadls2.blob.core.windows.net/test'\n",
    "# container_client = ContainerClient.from_container_url(container_url, credential=credential)\n",
    "# for blob in container_client.list_blobs():\n",
    "#     print(blob.name)\n",
    "#     print(blob.size)"
   ]
  },
  {
   "cell_type": "code",
   "execution_count": null,
   "metadata": {},
   "outputs": [],
   "source": [
    "# from ai_knowledge_base.utils.watchtower import *\n",
    "# from ai_knowledge_base.model import DocumentIngestion\n",
    "# from datetime import datetime\n",
    "\n",
    "# document_ingestion = DocumentIngestion.from_dict({\n",
    "#     \"url\": \"https://blob.windows.net/test/Opportunity List/BluWave/Pearlman Group/EOA App/Pearlman Group - EOA App Development - v1.0.docx\",\n",
    "#     \"staging_path\": \"/Users/zjia/Workspace/gen-ai-knowledge-base/tmp/test/Opportunity List/BluWave/Pearlman Group/EOA App/Pearlman Group - EOA App Development - v1.0.docx\",\n",
    "#     \"created_dt\": datetime.today().strftime('%Y-%m-%d %H:%M:%S')\n",
    "# })"
   ]
  },
  {
   "cell_type": "code",
   "execution_count": null,
   "metadata": {},
   "outputs": [],
   "source": [
    "# file_path = \"/Users/zjia/Resultant/OneDrive - Resultant/OpportunityList/City of Indianapolis/Knowledgebase Deployment/City of Indianapolis - Knowledgebase Deployment Notes.txt\"\n",
    "# from chardet import detect\n",
    "# with open(file_path, \"rb\") as f:\n",
    "#     binary_content = f.read()\n",
    "#     encoding = detect(binary_content).get('encoding', None)\n",
    "#     content = binary_content.decode(encoding if encoding else 'utf8')"
   ]
  },
  {
   "cell_type": "code",
   "execution_count": null,
   "metadata": {},
   "outputs": [],
   "source": [
    "from azure.ai.documentintelligence import DocumentIntelligenceClient\n",
    "from azure.core.credentials import AzureKeyCredential\n",
    "import html\n",
    "from ai_knowledge_base.utils.transport import xlsx2html\n",
    "from ai_knowledge_base.utils.document import BytesIOWrapper\n",
    "from ai_knowledge_base.utils.document import extract_xlsx_content, extract_other_content, parser_factory\n",
    "# file_path = '/Users/zjia/Resultant/OneDrive - Resultant/OpportunityList/State of Utah/Division of Technology/Enterprise Master Person Index EMPI/Draft/Utah - Enterprise Master Person Index Resource Plan - 2023_v01.xlsx'\n",
    "file_path = '/Users/zjia/Resultant/OneDrive - Resultant/OpportunityList/Leaf Home/20230301_Leaf Home_IT_Resource_Plan v2.xlsx'\n",
    "content = extract_xlsx_content(file_path)\n",
    "\n",
    "# parser = parser_factory(\"html\".split(\"_pdf\")[0]) # to handle cracked pdf converted to html\n",
    "# doc = parser.parse(content, file_name=None)"
   ]
  },
  {
   "cell_type": "code",
   "execution_count": null,
   "metadata": {},
   "outputs": [],
   "source": [
    "from langchain.text_splitter import TextSplitter, MarkdownTextSplitter, RecursiveCharacterTextSplitter, PythonCodeTextSplitter\n",
    "from ai_knowledge_base.utils.document import PdfTextSplitter\n",
    "SENTENCE_ENDINGS = [\".\", \"!\", \"?\"]\n",
    "WORDS_BREAKS = list(reversed([\",\", \";\", \":\", \" \", \"(\", \")\", \"[\", \"]\", \"{\", \"}\", \"\\t\", \"\\n\"]))\n",
    "\n",
    "# splitter = RecursiveCharacterTextSplitter.from_tiktoken_encoder(\n",
    "#                 separators=SENTENCE_ENDINGS + WORDS_BREAKS,\n",
    "#                 chunk_size=256, chunk_overlap=0)\n",
    "splitter = PdfTextSplitter(separator=SENTENCE_ENDINGS + WORDS_BREAKS, chunk_size=256, chunk_overlap=0)\n",
    "chunked_content_list = splitter.split_text(doc.content)"
   ]
  },
  {
   "cell_type": "code",
   "execution_count": null,
   "metadata": {},
   "outputs": [],
   "source": []
  }
 ],
 "metadata": {
  "kernelspec": {
   "display_name": "ai-knowledge-base",
   "language": "python",
   "name": "python3"
  },
  "language_info": {
   "codemirror_mode": {
    "name": "ipython",
    "version": 3
   },
   "file_extension": ".py",
   "mimetype": "text/x-python",
   "name": "python",
   "nbconvert_exporter": "python",
   "pygments_lexer": "ipython3",
   "version": "3.8.18"
  }
 },
 "nbformat": 4,
 "nbformat_minor": 2
}
