{
 "cells": [
  {
   "cell_type": "code",
   "execution_count": 1,
   "metadata": {},
   "outputs": [],
   "source": [
    "%load_ext autoreload\n",
    "%autoreload 2\n",
    "from configparser import ConfigParser\n",
    "\n",
    "config = ConfigParser()\n",
    "with open(\"set-env\") as stream:\n",
    "    config.read_string(\"[DEFAULT]\\n\" + stream.read())  # This line does the trick.\n",
    "\n",
    "pg_host=config['DEFAULT'].get(\"PG_HOST\")\n",
    "pg_uname=config['DEFAULT'].get(\"PG_UNAME\")\n",
    "pg_secret=config['DEFAULT'].get(\"PG_SECRET\")\n",
    "pg_db=config['DEFAULT'].get(\"PG_DB\")\n",
    "conn_str_alchemy = f\"postgresql://{pg_uname}:{pg_secret}@{pg_host}/{pg_db}\"\n",
    "\n",
    "openai_api_endpoint=config['DEFAULT'].get(\"OPENAI_API_ENDPOINT\")\n",
    "openai_api_key=config['DEFAULT'].get(\"OPENAI_API_KEY\")\n",
    "openai_chat_deployment=config['DEFAULT'].get(\"OPENAI_CHAT_DEPLOYMENT\")\n",
    "openai_embedding_deployment=config['DEFAULT'].get(\"OPENAI_EMBEDDING_DEPLOYMENT\")\n",
    "openai_chat_endpoint=f\"https://{openai_api_endpoint}/openai/deployments/{openai_chat_deployment}/chat/completions?api-version=2023-12-01-preview\"\n",
    "openai_embedding_endpoint=f\"https://{openai_api_endpoint}/openai/deployments/{openai_embedding_deployment}/embeddings?api-version=2023-08-01-preview\"\n",
    "\n",
    "docai_api_endpoint=config['DEFAULT'].get(\"DOCAI_API_ENDPOINT\")\n",
    "docai_api_key=config['DEFAULT'].get(\"DOCAI_API_KEY\")\n",
    "docai_endpoint=f\"https://{docai_api_endpoint}\"\n",
    "\n",
    "aisearch_api_endpoint=config['DEFAULT'].get(\"AISEARCH_API_ENDPOINT\")\n",
    "aisearch_api_key=config['DEFAULT'].get(\"AISEARCH_API_KEY\")\n",
    "aisearch_endpoint=f\"https://{aisearch_api_endpoint}\"\n",
    "\n",
    "index_store_host=config['DEFAULT'].get(\"INDEX_STORE_HOST\")\n",
    "index_store_uname=config['DEFAULT'].get(\"INDEX_STORE_UNAME\")\n",
    "index_store_secret=config['DEFAULT'].get(\"INDEX_STORE_SECRET\")\n",
    "conn_str_index_store = f\"mongodb+srv://{index_store_uname}:{index_store_secret}@{index_store_host}/?tls=true&authMechanism=SCRAM-SHA-256&retrywrites=false&maxIdleTimeMS=120000\"\n",
    "\n",
    "cache_secret=config['DEFAULT'].get(\"CACHE_SECRET\")\n",
    "cache_host=config['DEFAULT'].get(\"CACHE_HOST\")\n",
    "cache_port=config['DEFAULT'].get(\"CACHE_PORT\")\n",
    "conn_str_redis = f\"redis://:{cache_secret}@{cache_host}:{cache_port}/0\""
   ]
  },
  {
   "cell_type": "code",
   "execution_count": 2,
   "metadata": {},
   "outputs": [
    {
     "name": "stdout",
     "output_type": "stream",
     "text": [
      "Data preparation script started\n",
      "Preparing data for index: ratchet-openai-embedding\n"
     ]
    }
   ],
   "source": [
    "import os\n",
    "from typing import Optional, Dict, List, Any\n",
    "from dataclasses import dataclass, field\n",
    "from dataclasses_json import dataclass_json\n",
    "# from azure.ai.formrecognizer import DocumentIntelligenceClient\n",
    "from azure.ai.documentintelligence import DocumentIntelligenceClient \n",
    "from azure.core.credentials import AzureKeyCredential\n",
    "from azure.identity import AzureCliCredential\n",
    "\n",
    "from ai_knowledge_base.embedding.ai_search import create_index\n",
    "    \n",
    "@dataclass_json\n",
    "@dataclass\n",
    "class AISearchEmbeddingConfig:\n",
    "    \"\"\"\n",
    "    Embedding configuration\n",
    "    \"\"\"\n",
    "    data_path: str\n",
    "    search_service_endpoint: str\n",
    "    index_name: str\n",
    "    url_prefix: Optional[str] = None\n",
    "    language: Optional[str] = None\n",
    "    chunk_size: Optional[int] = 1024\n",
    "    token_overlap: Optional[int] = 128\n",
    "    semantic_config_name: Optional[str] = \"semantic_default\"\n",
    "    vector_config_name: Optional[str] = \"vector_default\"\n",
    "    docai_model_type: Optional[str] = \"Layout\"\n",
    "\n",
    "config = AISearchEmbeddingConfig.from_dict({\n",
    "    \"data_path\": \"https://akbadls2.blob.core.windows.net/optimus-knowledge/\",\n",
    "    \"url_prefix\": \"https://akbadls2.blob.core.windows.net/optimus-knowledge/\",\n",
    "    \"search_service_endpoint\": aisearch_endpoint,\n",
    "    \"index_name\": \"ratchet-openai-embedding\"\n",
    "})\n",
    "\n",
    "njobs = 1\n",
    "\n",
    "credential = AzureCliCredential()\n",
    "form_recognizer_client = None\n",
    "os.environ[\"AZURE_SEARCH_ADMIN_KEY\"] = aisearch_api_key\n",
    "os.environ[\"EMBEDDING_MODEL_KEY\"] = openai_api_key\n",
    "os.environ[\"EMBEDDING_MODEL_ENDPOINT\"] = openai_embedding_endpoint\n",
    "print(\"Data preparation script started\")\n",
    "if docai_endpoint and docai_api_key:\n",
    "    os.environ[\"FORM_RECOGNIZER_ENDPOINT\"] = docai_endpoint\n",
    "    os.environ[\"FORM_RECOGNIZER_KEY\"] = docai_api_key\n",
    "    if njobs==1:\n",
    "        form_recognizer_client = DocumentIntelligenceClient(\n",
    "            endpoint=docai_endpoint,\n",
    "            credential=AzureKeyCredential(docai_api_key),\n",
    "            api_version=\"2023-10-31-preview\"\n",
    "        )\n",
    "      \n",
    "if config.index_name and not openai_embedding_endpoint:\n",
    "    raise Exception(\"ERROR: Vector search is enabled in the config, but no embedding model endpoint and key were provided. Please provide these values or disable vector search.\")\n",
    "print(\"Preparing data for index:\", config.index_name)\n",
    "\n"
   ]
  },
  {
   "cell_type": "code",
   "execution_count": 3,
   "metadata": {},
   "outputs": [
    {
     "name": "stdout",
     "output_type": "stream",
     "text": [
      "Created search index ratchet-openai-embedding\n",
      "Chunking path https://akbadls2.blob.core.windows.net/optimus-knowledge/...\n",
      "Downloading https://akbadls2.blob.core.windows.net/optimus-knowledge/ to local folder\n",
      "Downloaded.\n",
      "Total files to process=65 out of total directory size=65\n",
      "Single process to chunk and parse the files. --njobs > 1 can help performance.\n"
     ]
    },
    {
     "name": "stderr",
     "output_type": "stream",
     "text": [
      "  5%|▍         | 3/65 [01:38<33:29, 32.41s/it]Unable to retrieve continuation token: cannot pickle '_io.BufferedReader' object\n",
      "  6%|▌         | 4/65 [02:08<32:07, 31.60s/it]"
     ]
    },
    {
     "name": "stdout",
     "output_type": "stream",
     "text": [
      "File (/var/folders/yl/gt92zxj943n1k6b_4t935wwm0000gp/T/tmpmyoa46oe/Optimus Risk Assessment.xlsx) failed with  (InternalServerError) An unexpected error occurred.\n",
      "Code: InternalServerError\n",
      "Message: An unexpected error occurred.\n",
      "Exception Details:\t(InternalServerError) An unexpected error occurred.\n",
      "\tCode: InternalServerError\n",
      "\tMessage: An unexpected error occurred.\n",
      "\tTarget: 0\n"
     ]
    },
    {
     "name": "stderr",
     "output_type": "stream",
     "text": [
      "100%|██████████| 65/65 [1:05:30<00:00, 60.47s/it] \n"
     ]
    },
    {
     "name": "stdout",
     "output_type": "stream",
     "text": [
      "Processed 65 files\n",
      "Unsupported formats: 0 files\n",
      "Files with errors: 1 files\n",
      "Found 3138 chunks\n",
      "Uploading documents to index...\n"
     ]
    },
    {
     "name": "stderr",
     "output_type": "stream",
     "text": [
      "Indexing Chunks...: 100%|██████████| 63/63 [00:33<00:00,  1.90it/s]\n"
     ]
    },
    {
     "name": "stdout",
     "output_type": "stream",
     "text": [
      "Validating index...\n",
      "Index is empty. Waiting 60 seconds to check again...\n",
      "The index contains 3138 chunks.\n",
      "The average chunk size of the index is 27821.827597195665 bytes.\n",
      "Index validation completed\n",
      "Data preparation for index ratchet-openai-embedding completed\n"
     ]
    }
   ],
   "source": [
    "create_index(config, credential, form_recognizer_client, embedding_model_endpoint=openai_embedding_endpoint, use_layout=True if config.docai_model_type==\"Layout\" else False, njobs=njobs)\n",
    "print(\"Data preparation for index\", config.index_name, \"completed\")"
   ]
  },
  {
   "cell_type": "code",
   "execution_count": null,
   "metadata": {},
   "outputs": [],
   "source": []
  }
 ],
 "metadata": {
  "kernelspec": {
   "display_name": "ai-knowledge-base",
   "language": "python",
   "name": "python3"
  },
  "language_info": {
   "codemirror_mode": {
    "name": "ipython",
    "version": 3
   },
   "file_extension": ".py",
   "mimetype": "text/x-python",
   "name": "python",
   "nbconvert_exporter": "python",
   "pygments_lexer": "ipython3",
   "version": "3.8.18"
  }
 },
 "nbformat": 4,
 "nbformat_minor": 2
}
